{
 "cells": [
  {
   "cell_type": "code",
   "execution_count": 1,
   "id": "d9accdb5",
   "metadata": {},
   "outputs": [],
   "source": [
    "import numpy as np\n",
    "import pandas as pd\n",
    "import tensorflow as tf\n",
    "import time\n",
    "import keras\n",
    "import matplotlib.pyplot as plt\n",
    "import re\n",
    "import nltk\n",
    "from nltk.corpus import stopwords\n",
    "from sklearn.feature_extraction.text import CountVectorizer\n",
    "from sklearn.feature_extraction.text import TfidfVectorizer\n",
    "from nltk.tokenize.toktok import ToktokTokenizer\n",
    "from nltk.stem import LancasterStemmer,WordNetLemmatizer\n",
    "from bs4 import BeautifulSoup\n",
    "\n",
    "\n",
    "from sklearn.neighbors import NearestNeighbors\n",
    "from scipy import sparse as sp\n",
    "\n",
    "from tensorflow.keras import Model\n",
    "from tensorflow.keras.layers import Input, Dot, Embedding, Flatten, Dense\n",
    "from sklearn.cluster import KMeans"
   ]
  },
  {
   "cell_type": "code",
   "execution_count": 2,
   "id": "9c1dd9b5",
   "metadata": {},
   "outputs": [],
   "source": [
    "# download the data from https://www.kaggle.com/lakshmi25npathi/imdb-dataset-of-50k-movie-reviews/"
   ]
  },
  {
   "cell_type": "code",
   "execution_count": 3,
   "id": "990338be",
   "metadata": {},
   "outputs": [
    {
     "name": "stdout",
     "output_type": "stream",
     "text": [
      "(50000, 2)\n"
     ]
    }
   ],
   "source": [
    "#importing the training data\n",
    "imdb_data=pd.read_csv('/home/koki/Desktop/Data/NLP/IMDB Dataset.csv')\n",
    "print(imdb_data.shape)"
   ]
  },
  {
   "cell_type": "code",
   "execution_count": 4,
   "id": "d7e45fea",
   "metadata": {},
   "outputs": [
    {
     "data": {
      "text/html": [
       "<div>\n",
       "<style scoped>\n",
       "    .dataframe tbody tr th:only-of-type {\n",
       "        vertical-align: middle;\n",
       "    }\n",
       "\n",
       "    .dataframe tbody tr th {\n",
       "        vertical-align: top;\n",
       "    }\n",
       "\n",
       "    .dataframe thead th {\n",
       "        text-align: right;\n",
       "    }\n",
       "</style>\n",
       "<table border=\"1\" class=\"dataframe\">\n",
       "  <thead>\n",
       "    <tr style=\"text-align: right;\">\n",
       "      <th></th>\n",
       "      <th>review</th>\n",
       "      <th>sentiment</th>\n",
       "    </tr>\n",
       "  </thead>\n",
       "  <tbody>\n",
       "    <tr>\n",
       "      <th>0</th>\n",
       "      <td>One of the other reviewers has mentioned that ...</td>\n",
       "      <td>positive</td>\n",
       "    </tr>\n",
       "    <tr>\n",
       "      <th>1</th>\n",
       "      <td>A wonderful little production. &lt;br /&gt;&lt;br /&gt;The...</td>\n",
       "      <td>positive</td>\n",
       "    </tr>\n",
       "    <tr>\n",
       "      <th>2</th>\n",
       "      <td>I thought this was a wonderful way to spend ti...</td>\n",
       "      <td>positive</td>\n",
       "    </tr>\n",
       "    <tr>\n",
       "      <th>3</th>\n",
       "      <td>Basically there's a family where a little boy ...</td>\n",
       "      <td>negative</td>\n",
       "    </tr>\n",
       "    <tr>\n",
       "      <th>4</th>\n",
       "      <td>Petter Mattei's \"Love in the Time of Money\" is...</td>\n",
       "      <td>positive</td>\n",
       "    </tr>\n",
       "  </tbody>\n",
       "</table>\n",
       "</div>"
      ],
      "text/plain": [
       "                                              review sentiment\n",
       "0  One of the other reviewers has mentioned that ...  positive\n",
       "1  A wonderful little production. <br /><br />The...  positive\n",
       "2  I thought this was a wonderful way to spend ti...  positive\n",
       "3  Basically there's a family where a little boy ...  negative\n",
       "4  Petter Mattei's \"Love in the Time of Money\" is...  positive"
      ]
     },
     "execution_count": 4,
     "metadata": {},
     "output_type": "execute_result"
    }
   ],
   "source": [
    "imdb_data.head()"
   ]
  },
  {
   "cell_type": "code",
   "execution_count": 5,
   "id": "24622eb2",
   "metadata": {},
   "outputs": [],
   "source": [
    "reviews = imdb_data[\"review\"]"
   ]
  },
  {
   "cell_type": "code",
   "execution_count": 6,
   "id": "f3a2d6e3",
   "metadata": {},
   "outputs": [],
   "source": [
    "reviews = reviews[:10000]"
   ]
  },
  {
   "cell_type": "code",
   "execution_count": 7,
   "id": "4e008441",
   "metadata": {},
   "outputs": [],
   "source": [
    "# nltk.download('stopwords')\n",
    "tokenizer=ToktokTokenizer()\n",
    "stopword_list=stopwords.words('english')"
   ]
  },
  {
   "cell_type": "code",
   "execution_count": 8,
   "id": "9fcff9a8",
   "metadata": {},
   "outputs": [],
   "source": [
    "#Removing the html strips\n",
    "def strip_html(text):\n",
    "    soup = BeautifulSoup(text, \"html.parser\")\n",
    "    return soup.get_text()\n",
    "\n",
    "#Removing the square brackets\n",
    "def remove_between_square_brackets(text):\n",
    "    return re.sub('\\[[^]]*\\]', '', text)\n",
    "\n",
    "#Removing the noisy text\n",
    "def denoise_text(text):\n",
    "    text = strip_html(text)\n",
    "    text = remove_between_square_brackets(text)\n",
    "    return text\n",
    "#Apply function on review column\n",
    "reviews=reviews.apply(denoise_text)\n",
    "\n",
    "def remove_special_characters(text, remove_digits=True):\n",
    "    pattern=r'[^a-zA-z0-9\\s]'\n",
    "    text=re.sub(pattern,'',text)\n",
    "    return text\n",
    "\n",
    "def remove_stopwords(text, is_lower_case=False):\n",
    "    tokens = tokenizer.tokenize(text)\n",
    "    tokens = [token.strip() for token in tokens]\n",
    "    if is_lower_case:\n",
    "        filtered_tokens = [token for token in tokens if token not in stopword_list]\n",
    "    else:\n",
    "        filtered_tokens = [token for token in tokens if token.lower() not in stopword_list]\n",
    "    filtered_text = ' '.join(filtered_tokens)    \n",
    "    return filtered_text"
   ]
  },
  {
   "cell_type": "code",
   "execution_count": 9,
   "id": "de0c93aa",
   "metadata": {},
   "outputs": [],
   "source": [
    "reviews = reviews.apply(denoise_text)\n",
    "reviews = reviews.apply(remove_special_characters)\n",
    "reviews = reviews.apply(remove_stopwords)"
   ]
  },
  {
   "cell_type": "code",
   "execution_count": 10,
   "id": "e0f6cef9",
   "metadata": {},
   "outputs": [
    {
     "data": {
      "text/plain": [
       "0    One reviewers mentioned watching 1 Oz episode ...\n",
       "1    wonderful little production filming technique ...\n",
       "2    thought wonderful way spend time hot summer we...\n",
       "3    Basically theres family little boy Jake thinks...\n",
       "4    Petter Matteis Love Time Money visually stunni...\n",
       "Name: review, dtype: object"
      ]
     },
     "execution_count": 10,
     "metadata": {},
     "output_type": "execute_result"
    }
   ],
   "source": [
    "reviews[:5]"
   ]
  },
  {
   "cell_type": "code",
   "execution_count": 11,
   "id": "4549c7de",
   "metadata": {},
   "outputs": [],
   "source": [
    "cv=CountVectorizer(min_df=0.01,max_df=0.999,binary=False,ngram_range=(1,1))\n",
    "tfv=TfidfVectorizer(min_df=0.005,max_df=0.999,use_idf=True,ngram_range=(1,1))"
   ]
  },
  {
   "cell_type": "code",
   "execution_count": 12,
   "id": "928b5ff5",
   "metadata": {},
   "outputs": [],
   "source": [
    "cv_reviews = cv.fit_transform(reviews)\n",
    "tf_reviews = tfv.fit_transform(reviews)"
   ]
  },
  {
   "cell_type": "code",
   "execution_count": 14,
   "id": "ec72966c",
   "metadata": {},
   "outputs": [
    {
     "data": {
      "text/plain": [
       "((10000, 2986), (10000, 1608))"
      ]
     },
     "execution_count": 14,
     "metadata": {},
     "output_type": "execute_result"
    }
   ],
   "source": [
    "tf_reviews.shape, cv_reviews.shape"
   ]
  },
  {
   "cell_type": "code",
   "execution_count": null,
   "id": "056ed89a",
   "metadata": {},
   "outputs": [],
   "source": []
  },
  {
   "cell_type": "code",
   "execution_count": 15,
   "id": "a8809cd6",
   "metadata": {},
   "outputs": [],
   "source": [
    "class PairsGen(tf.keras.utils.Sequence):\n",
    "    \n",
    "    def __init__(self, X, nr_pos_samples, nr_neg_samples, nr_nn, batch_size):\n",
    "        \n",
    "        \"\"\"Initialization\n",
    "        :param X: the sparse matrix containing the tf-idf (or smth else) scores per document\n",
    "        :param nr_pos_samples: the number of positive samples per word\n",
    "        :param nr_neg_samples: the number of negative samples for positive pair\n",
    "        :param nr_nn: how many nearest neighbors per candidate to generate\n",
    "        :param batch_size: how many samples to generate\n",
    "        \"\"\"\n",
    "        self.X = X\n",
    "        self.nr_pos_samples = nr_pos_samples\n",
    "        self.nr_neg_samples = nr_neg_samples\n",
    "        self.nr_nn = nr_nn\n",
    "        self.batch_size = batch_size\n",
    "        self.nn_model = NearestNeighbors(n_neighbors=nr_nn, metric = 'euclidean', \n",
    "                                         algorithm='auto').fit(tf_reviews)\n",
    "         \n",
    "    # how many samples to generate per epoch        \n",
    "    def __len__(self):\n",
    "        return 10000\n",
    "    \n",
    "    def __getitem__(self, idx):\n",
    "        i = 0\n",
    "        samples = []\n",
    "        labels = []\n",
    "        while i < self.batch_size:\n",
    "            i += 1\n",
    "            idx = np.random.randint(self.X.shape[0])\n",
    "            distances, indices = self.nn_model.kneighbors(self.X[idx])\n",
    "            eps = 1e-3\n",
    "            weights = [(1.0/(d+eps))**2 for d in distances[0][1:]]\n",
    "            weights = [w/sum(weights) for w in weights]\n",
    "            pos = np.random.choice(indices[0][1:], self.nr_pos_samples, p=weights)\n",
    "            neg = np.random.choice(self.X.shape[0], self.nr_neg_samples)\n",
    "            \n",
    "            samples.extend([(idx,p) for p in pos])\n",
    "            labels.extend(self.nr_pos_samples*[1])\n",
    "            \n",
    "            samples.extend([(idx, n) for n in neg])\n",
    "            labels.extend(self.nr_neg_samples*[0])\n",
    "        return np.array(samples), np.array(labels)\n",
    "            "
   ]
  },
  {
   "cell_type": "code",
   "execution_count": 16,
   "id": "728ca22e",
   "metadata": {},
   "outputs": [],
   "source": [
    "gen = PairsGen(tf_reviews, nr_pos_samples=10, nr_neg_samples=20, nr_nn=50, batch_size=1)"
   ]
  },
  {
   "cell_type": "code",
   "execution_count": 17,
   "id": "c691a389",
   "metadata": {},
   "outputs": [
    {
     "name": "stdout",
     "output_type": "stream",
     "text": [
      "30\n",
      "30\n",
      "elapsed 0.01779794692993164\n"
     ]
    }
   ],
   "source": [
    "# a test run to see how fast is the generator \n",
    "start = time.time()\n",
    "print(len(gen[1][0]))\n",
    "print(len(gen[1][1]))\n",
    "print(\"elapsed\", time.time()-start)"
   ]
  },
  {
   "cell_type": "code",
   "execution_count": 18,
   "id": "e7e02240",
   "metadata": {},
   "outputs": [],
   "source": [
    "class Doc2Vec(Model):\n",
    "    def __init__(self, vocab_size, embedding_dim, *args, **kwargs):\n",
    "        super(Doc2Vec, self).__init__(self, args, kwargs)\n",
    "        self.vocab_size = vocab_size\n",
    "        self.embedding_dim = embedding_dim\n",
    "        self.target_embedding = Embedding(vocab_size,\n",
    "                                          embedding_dim,\n",
    "                                          embeddings_initializer=\"RandomNormal\",\n",
    "                                          input_length=1,\n",
    "                                          name=\"word_embedding\")\n",
    "        self.context_embedding = Embedding(vocab_size,\n",
    "                                           embedding_dim,\n",
    "                                           embeddings_initializer=\"RandomNormal\",\n",
    "                                           input_length=1,\n",
    "                                           name=\"context_embedding\")\n",
    "        self.dots = Dot(axes=1)\n",
    "        self.flatten = Flatten()\n",
    "        self.dense = Dense(1, activation='sigmoid')\n",
    "\n",
    "    def call(self, pair):\n",
    "        target, context = pair[:,0], pair[:,1]\n",
    "        word_emb = self.target_embedding(target)\n",
    "        context_emb = self.context_embedding(context)\n",
    "        dots = self.dots([context_emb, word_emb])\n",
    "        flat = self.flatten(dots)\n",
    "        return self.dense(flat)\n",
    "    \n",
    "    def summary(self):\n",
    "        x = Input(shape=(2,))\n",
    "        model = Model(inputs=[x], outputs=self.call(x))\n",
    "        return model.summary()"
   ]
  },
  {
   "cell_type": "code",
   "execution_count": 20,
   "id": "94d5bc25",
   "metadata": {},
   "outputs": [],
   "source": [
    "nr_docs = tf_reviews.shape[0]\n",
    "d2v = Doc2Vec(vocab_size=nr_docs, embedding_dim=50)\n",
    "d2v.build(input_shape=(nr_docs, 50))\n",
    "d2v.compile(optimizer='adam',\n",
    "                 loss= 'binary_crossentropy', \n",
    "                 metrics=['accuracy', 'AUC'])"
   ]
  },
  {
   "cell_type": "code",
   "execution_count": 21,
   "id": "e81fddab",
   "metadata": {},
   "outputs": [
    {
     "name": "stdout",
     "output_type": "stream",
     "text": [
      "Model: \"model\"\n",
      "__________________________________________________________________________________________________\n",
      "Layer (type)                    Output Shape         Param #     Connected to                     \n",
      "==================================================================================================\n",
      "input_1 (InputLayer)            [(None, 2)]          0                                            \n",
      "__________________________________________________________________________________________________\n",
      "tf.__operators__.getitem_1 (Sli (None,)              0           input_1[0][0]                    \n",
      "__________________________________________________________________________________________________\n",
      "tf.__operators__.getitem (Slici (None,)              0           input_1[0][0]                    \n",
      "__________________________________________________________________________________________________\n",
      "context_embedding (Embedding)   (None, 50)           500000      tf.__operators__.getitem_1[0][0] \n",
      "__________________________________________________________________________________________________\n",
      "word_embedding (Embedding)      (None, 50)           500000      tf.__operators__.getitem[0][0]   \n",
      "__________________________________________________________________________________________________\n",
      "dot (Dot)                       (None, 1)            0           context_embedding[0][0]          \n",
      "                                                                 word_embedding[0][0]             \n",
      "__________________________________________________________________________________________________\n",
      "flatten (Flatten)               (None, 1)            0           dot[0][0]                        \n",
      "__________________________________________________________________________________________________\n",
      "dense (Dense)                   (None, 1)            2           flatten[0][0]                    \n",
      "==================================================================================================\n",
      "Total params: 1,000,002\n",
      "Trainable params: 1,000,002\n",
      "Non-trainable params: 0\n",
      "__________________________________________________________________________________________________\n"
     ]
    }
   ],
   "source": [
    "d2v.summary()"
   ]
  },
  {
   "cell_type": "code",
   "execution_count": 22,
   "id": "fe4c8b3f",
   "metadata": {},
   "outputs": [
    {
     "name": "stdout",
     "output_type": "stream",
     "text": [
      "Epoch 1/10\n",
      "10000/10000 [==============================] - 153s 15ms/step - loss: 0.6354 - accuracy: 0.6667 - auc: 0.5359\n",
      "Epoch 2/10\n",
      "10000/10000 [==============================] - 152s 15ms/step - loss: 0.6129 - accuracy: 0.6868 - auc: 0.6151\n",
      "Epoch 3/10\n",
      "10000/10000 [==============================] - 151s 15ms/step - loss: 0.5680 - accuracy: 0.7292 - auc: 0.6963\n",
      "Epoch 4/10\n",
      "10000/10000 [==============================] - 151s 15ms/step - loss: 0.5246 - accuracy: 0.7557 - auc: 0.7582\n",
      "Epoch 5/10\n",
      "10000/10000 [==============================] - 151s 15ms/step - loss: 0.4903 - accuracy: 0.7762 - auc: 0.7992\n",
      "Epoch 6/10\n",
      "10000/10000 [==============================] - 151s 15ms/step - loss: 0.4576 - accuracy: 0.7945 - auc: 0.8325\n",
      "Epoch 7/10\n",
      "10000/10000 [==============================] - 150s 15ms/step - loss: 0.4358 - accuracy: 0.8073 - auc: 0.8517\n",
      "Epoch 8/10\n",
      "10000/10000 [==============================] - 151s 15ms/step - loss: 0.4223 - accuracy: 0.8142 - auc: 0.8625\n",
      "Epoch 9/10\n",
      "10000/10000 [==============================] - 151s 15ms/step - loss: 0.4057 - accuracy: 0.8223 - auc: 0.8751\n",
      "Epoch 10/10\n",
      "10000/10000 [==============================] - 151s 15ms/step - loss: 0.3891 - accuracy: 0.8323 - auc: 0.8865\n"
     ]
    },
    {
     "data": {
      "text/plain": [
       "<tensorflow.python.keras.callbacks.History at 0x7fd3d9dba1c0>"
      ]
     },
     "execution_count": 22,
     "metadata": {},
     "output_type": "execute_result"
    }
   ],
   "source": [
    "d2v.fit(gen, epochs=10)"
   ]
  },
  {
   "cell_type": "code",
   "execution_count": 24,
   "id": "796da06f",
   "metadata": {},
   "outputs": [],
   "source": [
    "embeddings = d2v.get_layer('word_embedding').get_weights()[0]"
   ]
  },
  {
   "cell_type": "code",
   "execution_count": 25,
   "id": "85b1e312",
   "metadata": {},
   "outputs": [
    {
     "data": {
      "text/plain": [
       "10000"
      ]
     },
     "execution_count": 25,
     "metadata": {},
     "output_type": "execute_result"
    }
   ],
   "source": [
    "len(embeddings)"
   ]
  },
  {
   "cell_type": "code",
   "execution_count": 26,
   "id": "9e645633",
   "metadata": {},
   "outputs": [],
   "source": [
    "def get_nearest_reviews(data, indices, nr_nn, embeddings):\n",
    "    model = NearestNeighbors(n_neighbors=nr_nn, algorithm='auto', metric=\"euclidean\").fit(embeddings)\n",
    "    nns, nns_idx = model.kneighbors(embeddings[indices])\n",
    "    for i, idx in enumerate(indices):\n",
    "        print(\"Query: \\n\", data[idx])\n",
    "        print(\"\\nResults: \\n\")\n",
    "        for j, res in enumerate(nns_idx[i]):\n",
    "            if res != idx:\n",
    "                print(nns[i][j])\n",
    "                print(data[res])\n",
    "                print(\"\\n\")\n",
    "        print(\"********************\")\n",
    "    "
   ]
  },
  {
   "cell_type": "code",
   "execution_count": 36,
   "id": "07c064e0",
   "metadata": {},
   "outputs": [
    {
     "name": "stdout",
     "output_type": "stream",
     "text": [
      "Query: \n",
      " This movie is awful, I can't even be bothered to write a review on this garbage! All i will say it is one of the most boring films I've ever seen.<br /><br />And the acting is very bad. The boy who plays the main character really annoys me, he's got the same expression on his face through out the movie. I just want to slap him! Basically 80% of the movie is slow motion shots of skateboarders, weird music, and utter sh*t..<br /><br />Apparently I've got to write at least 10 lines of text to submit this comment, so I'll use up a few more lines by saying the lead character has got one of those faces you just want to slap!<br /><br />Meh i give up..THIS MOVIE SUCKS !!!!\n",
      "\n",
      "Results: \n",
      "\n",
      "0.7067161\n",
      "Quite average even by Monogram standards, this mystery (a remake of The Sphinx) has an oddball plot which is not unraveled to much effect -- you'll see through it after about ten minutes. The two leads have some nice breezy dialog at the outset, but John Hamilton is hopelessly dull as the villain (perfectly cast Lionel Atwill originated the role) and Warren Hymer's nitwit shtick is pretty annoying. However, it's worth sitting through for a five-minute appearance by the incomparable Mantan Moreland as Nicodemus the janitor, who gets the better of the defense attorney during a hilarious courtroom appearance. You've got to hand it to Bill \"One-Take\" Beaudine; he wasn't much of a director, but he would always punch up a routine programmer with some goofy vaudeville.\n",
      "\n",
      "\n",
      "0.7267383\n",
      "Ten years ago I really wanted to see this movie on the cinema. But I missed it, and then forgot about it. Oh boy, am I glad this movie didn't get to ruin my teenage eyes back then.<br /><br />I saw it yesterday, and seriously, this must be among the 10 worst movies ever made. And I'm talking about movies which has had too much attention, such as those wonderful trailers on TV, and too much money spent on actors and the making of the movie.<br /><br />The script sucks and the acting sucks even worse, do I need to say more?<br /><br />Please, Hollywood, NO MORE ARNOLD!!\n",
      "\n",
      "\n",
      "********************\n"
     ]
    }
   ],
   "source": [
    "get_nearest_reviews(imdb_data[\"review\"], [1000], 3, embeddings)"
   ]
  },
  {
   "cell_type": "code",
   "execution_count": 28,
   "id": "35c5b77f",
   "metadata": {},
   "outputs": [],
   "source": [
    "kmeans = KMeans(n_clusters=2, random_state=0).fit(embeddings)"
   ]
  },
  {
   "cell_type": "code",
   "execution_count": 29,
   "id": "3fa94979",
   "metadata": {},
   "outputs": [
    {
     "data": {
      "text/plain": [
       "array([1, 1, 1, ..., 0, 0, 1], dtype=int32)"
      ]
     },
     "execution_count": 29,
     "metadata": {},
     "output_type": "execute_result"
    }
   ],
   "source": [
    "kmeans.labels_"
   ]
  },
  {
   "cell_type": "code",
   "execution_count": 30,
   "id": "8dee9839",
   "metadata": {},
   "outputs": [],
   "source": [
    "sentiments = imdb_data[\"sentiment\"][:10000]"
   ]
  },
  {
   "cell_type": "code",
   "execution_count": 31,
   "id": "f862f2a1",
   "metadata": {},
   "outputs": [
    {
     "data": {
      "text/plain": [
       "0.5028"
      ]
     },
     "execution_count": 31,
     "metadata": {},
     "output_type": "execute_result"
    }
   ],
   "source": [
    "len(sentiments[sentiments=='positive'])/len(sentiments)"
   ]
  },
  {
   "cell_type": "code",
   "execution_count": 32,
   "id": "4bae1000",
   "metadata": {},
   "outputs": [],
   "source": [
    "def get_cluster_pureness(clust_labels, sentiments):\n",
    "    labels_dict = {}\n",
    "    for i, l in enumerate(clust_labels):\n",
    "        labels_dict.setdefault(l, {})\n",
    "        labels_dict[l].setdefault(sentiments[i], 0)\n",
    "        labels_dict[l][sentiments[i]] += 1\n",
    "    for l, vals in labels_dict.items():\n",
    "        print(\"Label: {}, sentiments: {}\".format(l, vals))\n",
    "    return labels_dict"
   ]
  },
  {
   "cell_type": "code",
   "execution_count": 33,
   "id": "d7f58413",
   "metadata": {},
   "outputs": [
    {
     "name": "stdout",
     "output_type": "stream",
     "text": [
      "Label: 1, sentiments: {'positive': 3348, 'negative': 2135}\n",
      "Label: 0, sentiments: {'negative': 2837, 'positive': 1680}\n"
     ]
    }
   ],
   "source": [
    "labels_dict = get_cluster_pureness(kmeans.labels_, sentiments)"
   ]
  },
  {
   "cell_type": "code",
   "execution_count": 34,
   "id": "aa71639d",
   "metadata": {},
   "outputs": [],
   "source": [
    "def plot_pie(labels_dict):\n",
    "    fig, axs  = plt.subplots(1,len(labels_dict))\n",
    "    fig.set_size_inches(10.5, 5)\n",
    "    fig.subplots_adjust(wspace=0.25)\n",
    "    for k, sents in sorted(labels_dict.items()):\n",
    "        labels = list(sents.keys())\n",
    "        sizes = [sents['positive'], sents['negative']]\n",
    "\n",
    "        patches, texts, autotexts = axs[k].pie(sizes, labels=labels, autopct='%1.2f%%',\n",
    "                shadow=False, startangle=0)\n",
    "        fs = 16 - len(labels_dict)  \n",
    "        texts[0].set_fontsize(fs)\n",
    "        texts[1].set_fontsize(fs)\n",
    "        autotexts[0].set_fontsize(fs)\n",
    "        autotexts[1].set_fontsize(fs)\n",
    "        axs[k].axis('equal')  # Equal aspect ratio ensures that pie is drawn as a circle.\n",
    "        axs[k].set_title(\"Cluster \" + str(k+1), fontsize = fs+1)\n",
    "    plt.show()"
   ]
  },
  {
   "cell_type": "code",
   "execution_count": 35,
   "id": "90823f7a",
   "metadata": {},
   "outputs": [
    {
     "data": {
      "image/png": "[encoded data removed]",
      "text/plain": [
       "<Figure size 756x360 with 2 Axes>"
      ]
     },
     "metadata": {},
     "output_type": "display_data"
    }
   ],
   "source": [
    "plot_pie(labels_dict)"
   ]
  },
  {
   "cell_type": "code",
   "execution_count": null,
   "id": "09498138",
   "metadata": {},
   "outputs": [],
   "source": []
  },
  {
   "cell_type": "code",
   "execution_count": null,
   "id": "8a64b578",
   "metadata": {},
   "outputs": [],
   "source": []
  }
 ],
 "metadata": {
  "kernelspec": {
   "display_name": "Python 3",
   "language": "python",
   "name": "python3"
  },
  "language_info": {
   "codemirror_mode": {
    "name": "ipython",
    "version": 3
   },
   "file_extension": ".py",
   "mimetype": "text/x-python",
   "name": "python",
   "nbconvert_exporter": "python",
   "pygments_lexer": "ipython3",
   "version": "3.8.10"
  }
 },
 "nbformat": 4,
 "nbformat_minor": 5
}
